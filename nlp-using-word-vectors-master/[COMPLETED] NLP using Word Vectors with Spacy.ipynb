{
 "cells": [
  {
   "cell_type": "markdown",
   "metadata": {},
   "source": [
    "# NLP using Word Vectors with Spacy \n",
    "\n",
    "## [Central London Data Science Project Nights](https://www.meetup.com/central_london_data_science/)\n",
    "\n",
    "This notebook will show you how to ustilise word vectors using spacy and how they can be used in creating and \"What to read next...\" system.\n",
    "\n",
    "[Spacy](https://spacy.io/) is a production grade open source NLP library that includes word vectors!\n",
    "\n",
    "**TASK** : start off by running the cell below to load in the libraries"
   ]
  },
  {
   "cell_type": "code",
   "execution_count": 1,
   "metadata": {},
   "outputs": [],
   "source": [
    "import spacy \n",
    "\n",
    "import numpy as np\n",
    "import matplotlib.pyplot as plt\n",
    "\n",
    "# this line makes any plots display in the notebook\n",
    "%matplotlib inline"
   ]
  },
  {
   "cell_type": "markdown",
   "metadata": {},
   "source": [
    "**TASK** : load the word vectors by running :\n",
    "\n",
    "```python\n",
    "nlp = spacy.load('en_core_web_lg')\n",
    "```\n",
    "\n",
    "You can see [here](https://spacy.io/models/en#en_core_web_lg) that this model contains 685,000 unique word vectors!!"
   ]
  },
  {
   "cell_type": "code",
   "execution_count": 2,
   "metadata": {},
   "outputs": [],
   "source": [
    "# YOUR CODE GOES HERE\n",
    "\n",
    "nlp = spacy.load('en_core_web_md')"
   ]
  },
  {
   "cell_type": "markdown",
   "metadata": {},
   "source": [
    "## Let's get comfortable with a single word vector"
   ]
  },
  {
   "cell_type": "markdown",
   "metadata": {},
   "source": [
    "**TASK** : get the vector of any word by running:\n",
    "```python\n",
    "nlp('dog').vector\n",
    "```"
   ]
  },
  {
   "cell_type": "code",
   "execution_count": 3,
   "metadata": {
    "scrolled": false
   },
   "outputs": [
    {
     "data": {
      "text/plain": [
       "array([ -4.01760012e-01,   3.70570004e-01,   2.12810002e-02,\n",
       "        -3.41250002e-01,   4.95380014e-02,   2.94400007e-01,\n",
       "        -1.73759997e-01,  -2.79819995e-01,   6.76219985e-02,\n",
       "         2.16930008e+00,  -6.26909971e-01,   2.91060001e-01,\n",
       "        -6.72699988e-01,   2.33190000e-01,  -3.42640013e-01,\n",
       "         1.83109999e-01,   5.02260029e-01,   1.06889999e+00,\n",
       "         1.46980003e-01,  -4.52300012e-01,  -4.18269992e-01,\n",
       "        -1.59669995e-01,   2.67479986e-01,  -4.88669991e-01,\n",
       "         3.64620000e-01,  -4.34029996e-02,  -2.44739994e-01,\n",
       "        -4.17519987e-01,   8.90880004e-02,  -2.55519986e-01,\n",
       "        -5.56949973e-01,   1.22429997e-01,  -8.35260004e-02,\n",
       "         5.50949991e-01,   3.64100009e-01,   1.53610006e-01,\n",
       "         5.57380021e-01,  -9.07019973e-01,  -4.90979999e-02,\n",
       "         3.85800004e-01,   3.79999995e-01,   1.44250005e-01,\n",
       "        -2.72210002e-01,  -3.70160013e-01,  -1.29040003e-01,\n",
       "        -1.50849998e-01,  -3.80760014e-01,   4.95829992e-02,\n",
       "         1.27550006e-01,  -8.27879980e-02,   1.43390000e-01,\n",
       "         3.25370014e-01,   2.72260010e-01,   4.36320007e-01,\n",
       "        -3.17690015e-01,   7.94049978e-01,   2.65289992e-01,\n",
       "         1.01350002e-01,  -3.32789987e-01,   4.31169987e-01,\n",
       "         1.66869998e-01,   1.07290000e-01,   8.94180015e-02,\n",
       "         2.86350012e-01,   4.01169986e-01,  -3.92219990e-01,\n",
       "         4.52170014e-01,   1.35210007e-01,  -2.88780004e-01,\n",
       "        -2.28189994e-02,  -3.49750012e-01,  -2.29959995e-01,\n",
       "         2.02240005e-01,  -2.11769998e-01,   2.71840006e-01,\n",
       "         9.17029977e-02,  -2.06100002e-01,  -6.57580018e-01,\n",
       "         1.89490005e-01,  -2.67560005e-01,   9.26389992e-02,\n",
       "         4.33160007e-01,  -4.88680005e-01,  -3.83089989e-01,\n",
       "        -2.19099998e-01,  -4.41830009e-01,   9.80440021e-01,\n",
       "         6.74229980e-01,   8.40030015e-01,  -1.81690007e-01,\n",
       "         1.73850000e-01,   4.18480009e-01,   1.60980001e-01,\n",
       "        -1.04900002e-01,  -4.19649988e-01,  -3.56599987e-01,\n",
       "        -1.68369994e-01,  -6.34580016e-01,   3.84220004e-01,\n",
       "        -3.50430012e-01,   1.74860001e-01,   5.35279989e-01,\n",
       "         2.01429993e-01,   3.78770009e-02,   4.71049994e-01,\n",
       "        -4.43439990e-01,   1.68400005e-01,  -1.66850001e-01,\n",
       "        -2.40219995e-01,  -1.00769997e-01,   3.03339988e-01,\n",
       "         4.27300006e-01,   3.38030010e-01,  -4.34810013e-01,\n",
       "         1.13430001e-01,   6.19580001e-02,   6.18080013e-02,\n",
       "        -1.40070006e-01,   8.20180029e-02,  -3.91299985e-02,\n",
       "         5.14420010e-02,   2.87250012e-01,   5.80250025e-01,\n",
       "        -5.76409996e-01,  -3.46520007e-01,   1.01319999e-01,\n",
       "         1.44630000e-01,   1.15689998e-02,  -3.37009996e-01,\n",
       "        -1.75860003e-01,  -3.57239991e-01,  -2.14230001e-01,\n",
       "         1.14289997e-02,   4.76449996e-01,  -3.74629982e-02,\n",
       "        -2.94880003e-01,  -1.74649999e-01,   3.02549988e-01,\n",
       "         6.03169978e-01,  -6.67899996e-02,  -2.70499992e+00,\n",
       "        -7.03079998e-01,   4.05479997e-01,   6.28740013e-01,\n",
       "         6.30800009e-01,  -5.45130014e-01,  -9.61910002e-03,\n",
       "         2.65329987e-01,   2.33909994e-01,  -5.18859997e-02,\n",
       "        -6.57590013e-03,   1.85729992e-02,  -4.56930012e-01,\n",
       "        -7.03509971e-02,  -3.06210011e-01,  -1.40180001e-02,\n",
       "        -2.04080001e-01,   3.70999992e-01,  -3.23540002e-01,\n",
       "        -8.46459985e-01,   2.70920008e-01,  -1.19609997e-01,\n",
       "        -9.55760032e-02,  -6.04640007e-01,   4.24089991e-02,\n",
       "         2.46560007e-01,   3.84449996e-02,  -2.54670009e-02,\n",
       "        -9.29080024e-02,  -2.13560000e-01,   3.61200005e-01,\n",
       "         1.91130005e-02,   6.27409965e-02,  -1.30830005e-01,\n",
       "        -1.51460001e-03,   5.82379997e-01,  -1.89559996e-01,\n",
       "         7.81050026e-01,   1.04769999e-02,   1.09280002e+00,\n",
       "         1.01400003e-01,  -3.62480015e-01,  -1.19620003e-01,\n",
       "        -3.44619989e-01,  -5.57039976e-01,   2.57970005e-01,\n",
       "         3.33559990e-01,   3.31939995e-01,  -3.12979996e-01,\n",
       "        -7.55469978e-01,  -7.52900004e-01,  -9.30719972e-02,\n",
       "        -1.11730002e-01,  -5.72510004e-01,   1.66390002e-01,\n",
       "         6.35789990e-01,   2.40060002e-01,  -2.92109996e-01,\n",
       "         9.01820004e-01,   1.24250002e-01,  -5.77509999e-01,\n",
       "         4.79860008e-02,  -4.27480012e-01,   2.44460002e-01,\n",
       "         4.72319983e-02,   3.56940001e-01,   4.42409992e-01,\n",
       "        -2.30550006e-01,   6.60369992e-01,  -7.39829987e-03,\n",
       "        -3.78569990e-01,   2.27589995e-01,  -3.71380001e-01,\n",
       "         3.10550004e-01,  -7.21049979e-02,  -2.44900003e-01,\n",
       "        -3.97609994e-02,   5.36499977e-01,  -4.14779991e-01,\n",
       "         1.65629998e-01,   3.37069988e-01,   1.09200001e-01,\n",
       "         3.72189999e-01,  -5.57269990e-01,  -7.80600011e-01,\n",
       "         1.42509997e-01,  -3.58280003e-01,   4.16379988e-01,\n",
       "         2.14460000e-01,   1.84100002e-01,  -4.77039993e-01,\n",
       "        -2.20049992e-02,  -2.36340001e-01,  -2.28400007e-01,\n",
       "         3.47220004e-01,   2.36670002e-01,   7.42489994e-02,\n",
       "        -8.84160027e-02,   2.86179990e-01,  -4.69419986e-01,\n",
       "        -4.39139992e-01,  -2.64739990e-01,  -3.06899995e-01,\n",
       "        -1.52600005e-01,  -8.48700032e-02,   2.84099996e-01,\n",
       "        -1.84809998e-01,  -2.21220002e-01,  -1.11690000e-01,\n",
       "        -2.52410006e-02,   4.59679998e-02,   3.53429988e-02,\n",
       "         2.24669993e-01,   5.15559971e-01,  -6.51369977e-04,\n",
       "         9.95590016e-02,  -1.42150000e-01,   2.01360002e-01,\n",
       "         2.83340007e-01,  -2.87719995e-01,   3.77659984e-02,\n",
       "        -3.76080006e-01,  -1.16810001e-01,  -6.70199990e-01,\n",
       "        -4.62649986e-02,   3.87840003e-01,  -3.22949998e-02,\n",
       "        -5.42909987e-02,  -4.53839988e-01,   1.95519999e-01,\n",
       "        -2.94699997e-01,   8.50090027e-01,   1.03450000e-01,\n",
       "         9.70100015e-02,   1.13389999e-01,   3.95020008e-01,\n",
       "         5.90430014e-02,   2.19779998e-01,   1.88449994e-01,\n",
       "        -1.58910006e-01,  -1.03009999e-01,   3.31640005e-01,\n",
       "         6.14770018e-02,  -2.98480004e-01,   4.45100009e-01,\n",
       "         4.73289996e-01,   2.63119996e-01,  -1.84949994e-01,\n",
       "         1.46520004e-01,  -3.15099992e-02,   2.29080003e-02,\n",
       "        -2.59290010e-01,  -3.08620006e-01,   1.75449997e-03,\n",
       "        -1.89620003e-01,   5.47890007e-01,   3.11940014e-01,\n",
       "         2.46930003e-01,   2.99290001e-01,  -7.48609975e-02], dtype=float32)"
      ]
     },
     "execution_count": 3,
     "metadata": {},
     "output_type": "execute_result"
    }
   ],
   "source": [
    "# YORU CODE GOES HERE\n",
    "\n",
    "nlp('dog').vector"
   ]
  },
  {
   "cell_type": "markdown",
   "metadata": {},
   "source": [
    "looks like a lot of numbers, view the number of dimensions by using the `.shape` on a vector:\n",
    "\n",
    "**the output should look like this**:\n",
    "\n",
    "```python\n",
    "(300,)\n",
    "```"
   ]
  },
  {
   "cell_type": "code",
   "execution_count": 4,
   "metadata": {},
   "outputs": [
    {
     "data": {
      "text/plain": [
       "(300,)"
      ]
     },
     "execution_count": 4,
     "metadata": {},
     "output_type": "execute_result"
    }
   ],
   "source": [
    "# YOUR CODE GOES HERE\n",
    "\n",
    "nlp('dog').vector.shape"
   ]
  },
  {
   "cell_type": "markdown",
   "metadata": {},
   "source": [
    "**TASK** : lets visualise the vector values in a bar plot:\n",
    "\n",
    "```python\n",
    "plt.bar(range(NUMBER_OF_DIMENSIONS), YOUR_VECTOR)\n",
    "plt.show()\n",
    "```\n",
    "\n",
    "When you have done that, play around with different words to see how they differ on the bar plot:"
   ]
  },
  {
   "cell_type": "code",
   "execution_count": 5,
   "metadata": {},
   "outputs": [
    {
     "data": {
      "image/png": "[encoded data removed]",
      "text/plain": [
       "<matplotlib.figure.Figure at 0x10c8fd390>"
      ]
     },
     "metadata": {},
     "output_type": "display_data"
    }
   ],
   "source": [
    "# YOUR CODE GOES HERE\n",
    "\n",
    "plt.bar(range(300), nlp('dog').vector)\n",
    "plt.show()"
   ]
  },
  {
   "cell_type": "markdown",
   "metadata": {},
   "source": [
    "---\n",
    "\n",
    "## Let's now do some word comparisons"
   ]
  },
  {
   "cell_type": "markdown",
   "metadata": {},
   "source": [
    "**TASK** : Create a varible called `cat` and assign it the vector for `\"cat\"`, and create a varible called `dog` and assign it the vector for `\"dog\"`:"
   ]
  },
  {
   "cell_type": "code",
   "execution_count": 6,
   "metadata": {},
   "outputs": [],
   "source": [
    "# YOUR CODE GOES HERE\n",
    "\n",
    "cat = nlp('cat').vector\n",
    "dog = nlp('dog').vector"
   ]
  },
  {
   "cell_type": "markdown",
   "metadata": {},
   "source": [
    "### How to compare vectors\n",
    "\n",
    "**HEADS UP**- Don't worry if your not comfortable with the following maths, You won't need to fully understand it to progress, it's just a bit of extra background knowledge 😎\n",
    "\n",
    "On of the most common ways of comparing vectors is using [Cosine similarity](https://en.wikipedia.org/wiki/Cosine_similarity)\n",
    "\n",
    "Cosine similarity is a measure focusing on the angle between 2 vectors, if the the angle is small -> the cosine will be high and therefore they are similare vectors, if the angle is large -> the cosine will be small and therefore : they are very different vectors: \n",
    "\n",
    "![cosine](images/cosine_similarity.png)\n",
    "\n",
    "http://blog.christianperone.com/2013/09/machine-learning-cosine-similarity-for-vector-space-models-part-iii/\n",
    "\n",
    "It's calculated with the following equation :\n",
    "\n",
    "![cosine equation](images/cosine1.png)\n",
    "\n",
    "We can do this in raw numpy with the following code:\n",
    "\n",
    "```python\n",
    "np.dot(VECTOR_1, VECTOR_2) / (np.linalg.norm(VECTOR_1) * np.linalg.norm(VECTOR_2))\n",
    "```\n",
    "\n",
    "**TASK** : Calculate the cosine similarity between your `dog` vector and your `cat` vector:\n",
    "\n",
    "Your answer should be close to `0.801685`"
   ]
  },
  {
   "cell_type": "code",
   "execution_count": 7,
   "metadata": {},
   "outputs": [
    {
     "data": {
      "text/plain": [
       "0.80168533"
      ]
     },
     "execution_count": 7,
     "metadata": {},
     "output_type": "execute_result"
    }
   ],
   "source": [
    "# YOUR CODE GOES HERE\n",
    "\n",
    "np.dot(dog, cat) / (np.linalg.norm(dog) * np.linalg.norm(cat))"
   ]
  },
  {
   "cell_type": "markdown",
   "metadata": {},
   "source": [
    "Ofcourse there are libraries that can do this for your!\n",
    "\n",
    "**TASK** : import the `cosine` function from the `scipy` package with the following import statement:\n",
    "\n",
    "```python\n",
    "from scipy.spatial.distance import cosine\n",
    "```"
   ]
  },
  {
   "cell_type": "code",
   "execution_count": 8,
   "metadata": {},
   "outputs": [],
   "source": [
    "# YOUR CODE GOES HERE\n",
    "\n",
    "from scipy.spatial.distance import cosine"
   ]
  },
  {
   "cell_type": "markdown",
   "metadata": {},
   "source": [
    "**TASK** : Calulate the similarity between the dog and cat vectors like before using the `cosine` funnction\n",
    "```python\n",
    "1 - cosine(VECTOR_1, VECTOR_2)\n",
    "```\n",
    "\n",
    "same as before, your answer should be close to `0.801685`"
   ]
  },
  {
   "cell_type": "code",
   "execution_count": 9,
   "metadata": {},
   "outputs": [
    {
     "data": {
      "text/plain": [
       "0.80168542871441517"
      ]
     },
     "execution_count": 9,
     "metadata": {},
     "output_type": "execute_result"
    }
   ],
   "source": [
    "# YOUR CODE GOES HERE\n",
    "\n",
    "1 - cosine(cat, dog)"
   ]
  },
  {
   "cell_type": "markdown",
   "metadata": {},
   "source": [
    "### Even easier! Spacy has it built in!\n",
    "\n",
    "Spacy will do this for you using `.similarity` on an nlp object:\n",
    "\n",
    "```python\n",
    "nlp('car').similarity(nlp('bike'))\n",
    "```\n",
    "\n",
    "**TASK** : Get the similarity between `'dog'` and `'cat'` using spacy's `.similarity` function:\n",
    "\n",
    "same as before, your answer should be close to `0.801685`"
   ]
  },
  {
   "cell_type": "code",
   "execution_count": 10,
   "metadata": {},
   "outputs": [
    {
     "data": {
      "text/plain": [
       "0.80168538937325962"
      ]
     },
     "execution_count": 10,
     "metadata": {},
     "output_type": "execute_result"
    }
   ],
   "source": [
    "# YOUR CODE GOES HERE\n",
    "\n",
    "nlp('cat').similarity(nlp('dog'))"
   ]
  },
  {
   "cell_type": "markdown",
   "metadata": {},
   "source": [
    "Below is a list of words\n",
    "\n",
    "**TASK** : print out how similiar each word is to `'cat'` in order to help you find out which is the best replacement pet:\n",
    "\n",
    "Check the completed notebook if your get stuck"
   ]
  },
  {
   "cell_type": "code",
   "execution_count": 11,
   "metadata": {},
   "outputs": [
    {
     "name": "stdout",
     "output_type": "stream",
     "text": [
      "car 0.319075305665\n",
      "truck 0.29983729522\n",
      "dragon 0.450325221289\n",
      "data 0.104425093599\n",
      "horse 0.484733482248\n",
      "fish 0.418065352251\n",
      "lion 0.526543720526\n"
     ]
    }
   ],
   "source": [
    "words = ['car', 'truck', 'dragon', 'data', 'horse', 'fish' , 'lion']\n",
    "\n",
    "#YOUR CODE GOES HERE\n",
    "\n",
    "for word in words:\n",
    "    print(word, nlp('cat').similarity(nlp(word)))"
   ]
  },
  {
   "cell_type": "markdown",
   "metadata": {},
   "source": [
    "---\n",
    "\n",
    "## Onwards to document vectors!"
   ]
  },
  {
   "cell_type": "markdown",
   "metadata": {},
   "source": [
    "The simplest way to generate a document vector is just to get the average word vector in that document.\n",
    "\n",
    "You can do this using the techniques you've learnt previously using standard python loops and simple numpy operations e.g adding vectors using `+` and dividing using `/`.\n",
    "\n",
    "**TASK** : Calculate the average word vector of the sentence `'why is the cat on the boat'` below. (I've provided a few bits of code to help)\n",
    "\n",
    "The `.sum()` of the document vector should around `-0.8358`\n",
    "\n",
    "Check the completed noetbook if you get stuck"
   ]
  },
  {
   "cell_type": "code",
   "execution_count": 12,
   "metadata": {},
   "outputs": [
    {
     "name": "stdout",
     "output_type": "stream",
     "text": [
      "-0.835803670343\n"
     ]
    }
   ],
   "source": [
    "sentence = 'why is the cat on the boat'\n",
    "\n",
    "# numpy array with the dimensions (300,), filled with zeros\n",
    "total = np.zeros(300)\n",
    "\n",
    "# words from the text split into a list\n",
    "words = sentence.split(' ')\n",
    "\n",
    "# number of words in the sentence\n",
    "n = len(words)\n",
    "\n",
    "# the variable that the average word vector should be stored in \n",
    "average = None\n",
    "\n",
    "\n",
    "# YOUR CODE GOES HERE\n",
    "\n",
    "for word in words:\n",
    "    word_vec = nlp(word).vector\n",
    "    total += word_vec\n",
    "\n",
    "average = total / n\n",
    "\n",
    "# YOUR CODE ENDS HERE\n",
    "\n",
    "\n",
    "print(average.sum())\n"
   ]
  },
  {
   "cell_type": "markdown",
   "metadata": {},
   "source": [
    "### How you can do the same thing a bit quicker:\n",
    "\n",
    "```python\n",
    "# use list comprehension to get the vectors for each word\n",
    "word_vector_list = [nlp(word).vector for word in sentence.split(' ')]\n",
    "\n",
    "# calculate the mean across each word\n",
    "average_word_vector = np.mean(word_vector_list, axis=0)\n",
    "\n",
    "# check that the sum is the same as the other way\n",
    "print(average_word_vector.sum())\n",
    "```\n",
    "\n",
    "**TASK** : Copy and past the above code to check it gets a similar result as the previous task (should around `-0.8358`):"
   ]
  },
  {
   "cell_type": "code",
   "execution_count": 13,
   "metadata": {},
   "outputs": [
    {
     "name": "stdout",
     "output_type": "stream",
     "text": [
      "-0.835803\n"
     ]
    }
   ],
   "source": [
    "# YOUR CODE GOES HERE\n",
    "\n",
    "# use list comprehension to get the vectors for each word\n",
    "word_vector_list = [nlp(word).vector for word in sentence.split(' ')]\n",
    "\n",
    "# covert that list to a numpy array and calculate the mean across each word\n",
    "average_word_vector = np.mean(word_vector_list, axis=0)\n",
    "\n",
    "# check that the sum is the same as the other way\n",
    "print(average_word_vector.sum())"
   ]
  },
  {
   "cell_type": "markdown",
   "metadata": {},
   "source": [
    "### Spacy to the rescue! again!\n",
    "\n",
    "Spacy will already do this average word vector calculation for you:\n",
    "\n",
    "```python\n",
    "nlp('what ever you want to say').vector\n",
    "```\n",
    "\n",
    "**TASK** : Do this for the sentence you used previously and check the sum is similare (should around `-0.8358`):"
   ]
  },
  {
   "cell_type": "code",
   "execution_count": 14,
   "metadata": {},
   "outputs": [
    {
     "data": {
      "text/plain": [
       "-0.83580327"
      ]
     },
     "execution_count": 14,
     "metadata": {},
     "output_type": "execute_result"
    }
   ],
   "source": [
    "# YOUR CODE GOES HERE\n",
    "\n",
    "nlp(sentence).vector.sum()"
   ]
  },
  {
   "cell_type": "markdown",
   "metadata": {},
   "source": [
    "Like how you've already done it with words, find out which of the following sentences is most similar to the sentence `'why is my cat on the car'`:\n",
    "\n",
    "**TASK** : print out the similarity score for each sentence against the `sentence_to_compare` to help you see which one is most similar:"
   ]
  },
  {
   "cell_type": "code",
   "execution_count": 15,
   "metadata": {},
   "outputs": [
    {
     "name": "stdout",
     "output_type": "stream",
     "text": [
      "where did my dog go - 0.879428120233\n",
      "dude where's my car - 0.902923529769\n",
      "i've lost my cat in the car - 0.925151406861\n",
      "get that boat back - 0.820837202062\n",
      "find my cat - 0.863482748178\n",
      "why is my dog on the drugs - 0.928325851442\n"
     ]
    }
   ],
   "source": [
    "sentence_to_compare = 'why is my cat on the car'\n",
    "\n",
    "sentences = [\"where did my dog go\", \n",
    "             \"dude where's my car\",\n",
    "             \"i've lost my cat in the car\",\n",
    "             \"get that boat back\",\n",
    "             \"find my cat\",\n",
    "             \"why is my dog on the drugs\"]\n",
    "\n",
    "# YOURE CODE GOES HERE\n",
    "\n",
    "for sentence in sentences:\n",
    "    sim = nlp(sentence_to_compare).similarity(nlp(sentence))\n",
    "    print(sentence,'-', sim)"
   ]
  },
  {
   "cell_type": "markdown",
   "metadata": {},
   "source": [
    "Let's improve our sentence similarity system by removing stop words i.e very common words that carry little meaning. \n",
    "\n",
    "Below we have created the function `remove_stop_words()` which will remove stop words from text passed to it e.g:\n",
    "\n",
    "```python\n",
    "remove_stop_words('why is my dog on the drugs')\n",
    ">> 'dog drugs'\n",
    "```\n",
    "\n",
    "**TASK** : Using this function, do the same task as before (print out the similarity score for each sentence against the sentence_to_compare to help you see which one is most similar) but remove the stop words when your doing it."
   ]
  },
  {
   "cell_type": "code",
   "execution_count": 16,
   "metadata": {},
   "outputs": [
    {
     "name": "stdout",
     "output_type": "stream",
     "text": [
      "where did my dog go - 0.703443348496\n",
      "dude where's my car - 0.71713842303\n",
      "i've lost my cat in the car - 0.810616945171\n",
      "get that boat back - 0.461349352674\n",
      "find my cat - 0.788653348563\n",
      "why is my dog on the drugs - 0.605002483946\n"
     ]
    }
   ],
   "source": [
    "# import the list of stop words from the spacy library\n",
    "from spacy.lang.en.stop_words import STOP_WORDS\n",
    "\n",
    "def remove_stop_words(text):\n",
    "    return ' '.join([word for word in text.split(' ') if word.lower() not in STOP_WORDS])\n",
    "\n",
    "\n",
    "# YOUR CODE GOES HERE\n",
    "\n",
    "for sentence in sentences:\n",
    "    sim = nlp(remove_stop_words(sentence_to_compare)).similarity(nlp(remove_stop_words(sentence)))\n",
    "    print(sentence,'-', sim)"
   ]
  },
  {
   "cell_type": "markdown",
   "metadata": {},
   "source": [
    "---\n",
    "\n",
    "## Alrighty let's visualise some word vectors! (task free section)"
   ]
  },
  {
   "cell_type": "markdown",
   "metadata": {},
   "source": [
    "Visulising word vectors is a bit tricky becuase the vectors we are using happen to have 300 dimensions, and we as human beings are most comfortable looking at 2D data (charts, graphs etc).\n",
    "\n",
    "So lets covert our 300D data down to 2D data using [PCA](http://setosa.io/ev/principal-component-analysis/)!\n",
    "\n",
    "PCA will basically just project the data points down whilst trying to keep the relative distances between data points the same i.e if the distance between `cat` and `boat` is more than the distance between `cat` and `dog` in 300 dimensions then the distance between `cat` and `boat` will be more than the distance between `cat` and `dog` in 2 dimensions (*or atleast PCA will work to try and make that happen*).\n",
    "\n",
    "### Play around with adding words to the `words` list and see where they end up"
   ]
  },
  {
   "cell_type": "code",
   "execution_count": 17,
   "metadata": {},
   "outputs": [
    {
     "data": {
      "text/plain": [
       "array([[ 4.09993372, -2.28173842],\n",
       "       [ 3.59422001, -2.38095955],\n",
       "       [-3.54300949, -0.36220067],\n",
       "       [ 2.59345655,  6.11416944],\n",
       "       [-1.08535571, -1.63163824],\n",
       "       [-2.43593785,  0.95236696],\n",
       "       [-3.22330723, -0.40999952]])"
      ]
     },
     "execution_count": 17,
     "metadata": {},
     "output_type": "execute_result"
    }
   ],
   "source": [
    "# import the PCA module from sklearn\n",
    "from sklearn.decomposition import PCA\n",
    "\n",
    "# this is just making sure we have loaded in our word vectors\n",
    "if 'nlp' not in locals():\n",
    "    nlp = spacy.load('en_core_web_md')\n",
    "\n",
    "def get_word_vectors(words):\n",
    "    # converts a list of words into their word vectors\n",
    "    return [nlp(word).vector for word in words]\n",
    "\n",
    "words = ['car', 'truck', 'dragon', 'data', 'horse', 'fish' , 'lion']\n",
    "\n",
    "# intialise pca model and tell it to project data down onto 2 dimensions\n",
    "pca = PCA(n_components=2)\n",
    "\n",
    "# fit the pca model to our 300D data, this will work out which is the best \n",
    "# way to project the data down that will best maintain the relative distances \n",
    "# between data points. It will store these intructioons on how to transform the data.\n",
    "pca.fit(get_word_vectors(words))\n",
    "\n",
    "# Tell our (fitted) pca model to transform our 300D data down onto 2D using the \n",
    "# instructions it learnt during the fit phase.\n",
    "word_vecs_2d = pca.transform(get_word_vectors(words))\n",
    "\n",
    "# let's look at our new 2D word vectors\n",
    "word_vecs_2d"
   ]
  },
  {
   "cell_type": "code",
   "execution_count": 18,
   "metadata": {},
   "outputs": [
    {
     "data": {
      "image/png": "[encoded data removed]",
      "text/plain": [
       "<matplotlib.figure.Figure at 0x138d18c50>"
      ]
     },
     "metadata": {},
     "output_type": "display_data"
    }
   ],
   "source": [
    "# create a nice big plot \n",
    "plt.figure(figsize=(20,15))\n",
    "\n",
    "# plot the scatter plot of where the words will be\n",
    "plt.scatter(word_vecs_2d[:,0], word_vecs_2d[:,1])\n",
    "\n",
    "# for each word and coordinate pair: draw the text on the plot\n",
    "for word, coord in zip(words, word_vecs_2d):\n",
    "    x, y = coord\n",
    "    plt.text(x, y, word, size= 15)\n",
    "\n",
    "# show the plot\n",
    "plt.show()"
   ]
  },
  {
   "cell_type": "markdown",
   "metadata": {},
   "source": [
    "---\n",
    "\n",
    "# Let's build an article recommendation system\n",
    "\n",
    "As you've probably seen on plenty of media sites, they love trying to recommend you what you should be reading/watching next in order to keep you on their site.\n",
    "\n",
    "If you have loads of user data, you could come up with some sort of recommender system, however these systems will no perform so well when there is limited user interaction data e.g for newly publish media that no-one has viewed yet.\n",
    "\n",
    "So lets build a system that will tell you what to read next based on the word vector similarity of the titles of articles.\n",
    "\n",
    "![related article](images/related_articles.png)"
   ]
  },
  {
   "cell_type": "markdown",
   "metadata": {},
   "source": [
    "## 1. Import the list of medium articles \n",
    "\n",
    "We are going use pandas to read in the .csv, so the... \n",
    "\n",
    "**TASK** is to import pandas :\n",
    "\n",
    "```python\n",
    "import pandas as pd\n",
    "```\n",
    "\n",
    "then read in the csv into a Serise (that pandas for list 😉) and assign it to a varible named `medium_titles`:\n",
    "\n",
    "```python\n",
    "pd.Series.from_csv('medium_articles.csv').values\n",
    "```\n",
    "\n",
    "the `.values` bit will get the titles out as a numpy array which works better with the functions we wrote earlier.\n",
    "\n",
    "the `.shape` of your new `medium_titles` varible should be `(192,)`"
   ]
  },
  {
   "cell_type": "code",
   "execution_count": 19,
   "metadata": {},
   "outputs": [
    {
     "data": {
      "text/plain": [
       "(192,)"
      ]
     },
     "execution_count": 19,
     "metadata": {},
     "output_type": "execute_result"
    }
   ],
   "source": [
    "# YOUR CODE GOES HERE \n",
    "\n",
    "import pandas as pd\n",
    "\n",
    "medium_titles = pd.Series.from_csv('medium_articles.csv').values\n",
    "\n",
    "medium_titles.shape"
   ]
  },
  {
   "cell_type": "markdown",
   "metadata": {},
   "source": [
    "## 2. Covert our titles to title-vectors\n",
    "\n",
    "We used a function earlier called `get_word_vectors()` which converted a list of text into a list of vectors.\n",
    "\n",
    "**TASK** : use `get_word_vectors()` to convert your `medium_titles` into vectors and assign them to a varible called `title_vectors`, or don't, your call"
   ]
  },
  {
   "cell_type": "code",
   "execution_count": 20,
   "metadata": {},
   "outputs": [],
   "source": [
    "# YOUR CODE GOES HERE \n",
    "\n",
    "title_vectors = get_word_vectors(medium_titles)"
   ]
  },
  {
   "cell_type": "markdown",
   "metadata": {},
   "source": [
    "## 3. Build a Nearest Neighbors model that will do all of the similarity searching stuff for us 😱\n",
    "\n",
    "Yes, there is a really nice simple model called [nearest neighbors](https://en.wikipedia.org/wiki/Nearest_neighbor_search) that specilises in seraching for data points that are most similar to a given data point. You may also see it used in classification and regression models in the form of [K-Nearnest-neighbors](http://scikit-learn.org/stable/modules/generated/sklearn.neighbors.KNeighborsClassifier.html)\n",
    "\n",
    "![neighbors](images/nn_algo.png)\n",
    "\n",
    "**TASK** : import the `NearestNeighbors` module form sklearn (NOT **K**NearestNeighbors), it resides within the `.neighbors` package of sklearn"
   ]
  },
  {
   "cell_type": "code",
   "execution_count": 21,
   "metadata": {},
   "outputs": [],
   "source": [
    "# YOUR CODE GOES HERE\n",
    "\n",
    "from sklearn.neighbors import NearestNeighbors"
   ]
  },
  {
   "cell_type": "markdown",
   "metadata": {},
   "source": [
    "**TASK** : create a new NearestNeighbors model and assign it to a varible called `neig_model`.\n",
    "\n",
    "```python\n",
    "NearestNeighbors(n_neighbors=NUMBER_OF_NEIGHBORS)\n",
    "```\n",
    "\n",
    "the `n_neighbors` property defines the number of closest data points (neighbors) to retreive.\n",
    "\n",
    "![n_neighbors](images/n_neighbors.png)\n",
    "\n",
    "we want use this model to find the closest 3 titles"
   ]
  },
  {
   "cell_type": "code",
   "execution_count": 22,
   "metadata": {},
   "outputs": [],
   "source": [
    "# YOUR CODE GOES HERE\n",
    "\n",
    "neig_model = NearestNeighbors(n_neighbors=3)"
   ]
  },
  {
   "cell_type": "markdown",
   "metadata": {},
   "source": [
    "**TASK** : fit the model to your `title_vectors`"
   ]
  },
  {
   "cell_type": "code",
   "execution_count": 23,
   "metadata": {},
   "outputs": [
    {
     "data": {
      "text/plain": [
       "NearestNeighbors(algorithm='auto', leaf_size=30, metric='minkowski',\n",
       "         metric_params=None, n_jobs=1, n_neighbors=3, p=2, radius=1.0)"
      ]
     },
     "execution_count": 23,
     "metadata": {},
     "output_type": "execute_result"
    }
   ],
   "source": [
    "# YOUR CODE GOES HERE\n",
    "\n",
    "neig_model.fit(title_vectors)"
   ]
  },
  {
   "cell_type": "markdown",
   "metadata": {},
   "source": [
    "**TASK** : Find the titles that are most similare to the phrase `'I want a data job'`.\n",
    "\n",
    "You query your model for closest neighbors by using the `.kneighbors()` function and passing it a **list** of vectors you want to search for, becuase we are only searching based on one vector, you should wrap your vector is square brackets e.g `.kneighbors([MY_VECTOR])`\n",
    "\n",
    "![neighbors](images/nn_model.png)\n",
    "\n",
    "The `.kneighbors()` function will return a list of distances and indices (see [docs](http://scikit-learn.org/stable/modules/generated/sklearn.neighbors.NearestNeighbors.html#sklearn.neighbors.NearestNeighbors.kneighbors)).\n",
    "\n",
    "you could just read the output of the `.kneighbors()` function and manually get the titles e.g `medium_titles[78]`\n",
    "\n",
    "or\n",
    "\n",
    "you can store them by doing the following :\n",
    "\n",
    "```python\n",
    "distances, indices = neig_model.kneighbors([YOUR_VECTOR])\n",
    "```\n",
    "\n",
    "The indices are the indices of the data points you used to `fit` your model that are closest to the vector you passed in. \n",
    "\n",
    "The distances are the distances to each of those points. \n",
    "\n",
    "**Useful numpy tip** : numpy has a function called [take](https://docs.scipy.org/doc/numpy-1.14.0/reference/generated/numpy.take.html) which will extract out the specific indices from a given list:\n",
    "\n",
    "```python\n",
    "some_list = ['a', 'b', 'c', 'd', 'e', 'f']\n",
    "\n",
    "some_indices = [2,5,1]\n",
    "\n",
    "np.take(some_list, some_indices)\n",
    "\n",
    ">> ['c', 'f', 'b']\n",
    "```\n",
    "\n",
    "** you can check the completed noetboook if you get stuck **"
   ]
  },
  {
   "cell_type": "code",
   "execution_count": 24,
   "metadata": {},
   "outputs": [
    {
     "data": {
      "text/plain": [
       "array(['What Getting A Job In Data Science Might Look\\xa0Like',\n",
       "       'How to get your first job in Data\\xa0Science?',\n",
       "       'I have data. I need insights. Where do I\\xa0start?'], dtype=object)"
      ]
     },
     "execution_count": 24,
     "metadata": {},
     "output_type": "execute_result"
    }
   ],
   "source": [
    "# YOUR CODE GOES HERE\n",
    "\n",
    "dist, ind = neig_model.kneighbors([nlp('I want a data job').vector])\n",
    "\n",
    "# the indices list are wrapped in a list, that's why we need to use ind[0]\n",
    "np.take(medium_titles, ind[0]) "
   ]
  },
  {
   "cell_type": "code",
   "execution_count": 25,
   "metadata": {},
   "outputs": [
    {
     "data": {
      "text/plain": [
       "(array([[ 1.80106673,  1.89723182,  1.93672747]]), array([[ 73,  62, 115]]))"
      ]
     },
     "execution_count": 25,
     "metadata": {},
     "output_type": "execute_result"
    }
   ],
   "source": [
    "# or manually type the indices in\n",
    "neig_model.kneighbors([nlp('I want a data job').vector])"
   ]
  },
  {
   "cell_type": "code",
   "execution_count": 26,
   "metadata": {},
   "outputs": [
    {
     "data": {
      "text/plain": [
       "('What Getting A Job In Data Science Might Look\\xa0Like',\n",
       " 'How to get your first job in Data\\xa0Science?',\n",
       " 'I have data. I need insights. Where do I\\xa0start?')"
      ]
     },
     "execution_count": 26,
     "metadata": {},
     "output_type": "execute_result"
    }
   ],
   "source": [
    "medium_titles[73], medium_titles[62],  medium_titles[115]"
   ]
  },
  {
   "cell_type": "markdown",
   "metadata": {},
   "source": [
    "## Extra task\n",
    "\n",
    "Tweak you neigbors model to ignore stop words. \n",
    "\n",
    "Some tips:\n",
    "\n",
    "* The input data used to fit the model will need to be changed\n",
    "* The vector you pass to the `.kneighbors()` function will need changing too\n",
    "* We already have a function `remove_stop_words(text)` that removes the stop words from text"
   ]
  },
  {
   "cell_type": "markdown",
   "metadata": {},
   "source": [
    "## Congrats on finishing! 🚀🚀🚀\n",
    "\n",
    "You should now have a some new ideas on how you can use word vectors.\n",
    "\n",
    "For more advanced use cases of word vectors (deep learning, and how the vectors themselves are trained) I recommend looking at [Andrew Ng's deeplearning course on sequence models](https://www.coursera.org/learn/nlp-sequence-models)!"
   ]
  }
 ],
 "metadata": {
  "kernelspec": {
   "display_name": "Python 3",
   "language": "python",
   "name": "python3"
  },
  "language_info": {
   "codemirror_mode": {
    "name": "ipython",
    "version": 3
   },
   "file_extension": ".py",
   "mimetype": "text/x-python",
   "name": "python",
   "nbconvert_exporter": "python",
   "pygments_lexer": "ipython3",
   "version": "3.5.2"
  }
 },
 "nbformat": 4,
 "nbformat_minor": 1
}
