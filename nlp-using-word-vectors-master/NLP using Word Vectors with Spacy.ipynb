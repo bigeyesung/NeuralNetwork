{
 "cells": [
  {
   "cell_type": "markdown",
   "metadata": {},
   "source": [
    "# NLP using Word Vectors with Spacy\n",
    "\n",
    "## [Central London Data Science Project Nights](https://www.meetup.com/central_london_data_science/)\n",
    "\n",
    "This notebook will show you how to ustilise word vectors using spacy and how they can be used in creating and \"What to read next...\" system.\n",
    "\n",
    "[Spacy](https://spacy.io/) is a production grade open source NLP library that includes word vectors!\n",
    "\n",
    "**TASK** : start off by running the cell below to load in the libraries"
   ]
  },
  {
   "cell_type": "code",
   "execution_count": 1,
   "metadata": {},
   "outputs": [],
   "source": [
    "import spacy \n",
    "\n",
    "import numpy as np\n",
    "import matplotlib.pyplot as plt\n",
    "\n",
    "# this line makes any plots display in the notebook\n",
    "%matplotlib inline"
   ]
  },
  {
   "cell_type": "markdown",
   "metadata": {},
   "source": [
    "**TASK** : load the word vectors by running :\n",
    "\n",
    "```python\n",
    "nlp = spacy.load('en_core_web_lg')\n",
    "```\n",
    "\n",
    "You can see [here](https://spacy.io/models/en#en_core_web_lg) that this model contains 685,000 unique word vectors!!"
   ]
  },
  {
   "cell_type": "code",
   "execution_count": 2,
   "metadata": {},
   "outputs": [],
   "source": [
    "# YOUR CODE GOES HERE\n",
    "\n"
   ]
  },
  {
   "cell_type": "markdown",
   "metadata": {},
   "source": [
    "## Let's get comfortable with a single word vector"
   ]
  },
  {
   "cell_type": "markdown",
   "metadata": {},
   "source": [
    "**TASK** : get the vector of any word by running:\n",
    "```python\n",
    "nlp('dog').vector\n",
    "```"
   ]
  },
  {
   "cell_type": "code",
   "execution_count": 3,
   "metadata": {
    "scrolled": false
   },
   "outputs": [],
   "source": [
    "# YORU CODE GOES HERE\n",
    "\n"
   ]
  },
  {
   "cell_type": "markdown",
   "metadata": {},
   "source": [
    "looks like a lot of numbers, view the number of dimensions by using the `.shape` on a vector:\n",
    "\n",
    "**the output should look like this**:\n",
    "\n",
    "```python\n",
    "(300,)\n",
    "```"
   ]
  },
  {
   "cell_type": "code",
   "execution_count": 4,
   "metadata": {},
   "outputs": [],
   "source": [
    "# YOUR CODE GOES HERE\n",
    "\n"
   ]
  },
  {
   "cell_type": "markdown",
   "metadata": {},
   "source": [
    "**TASK** : lets visualise the vector values in a bar plot:\n",
    "\n",
    "```python\n",
    "plt.bar(range(NUMBER_OF_DIMENSIONS), YOUR_VECTOR)\n",
    "plt.show()\n",
    "```\n",
    "\n",
    "When you have done that, play around with different words to see how they differ on the bar plot:"
   ]
  },
  {
   "cell_type": "code",
   "execution_count": 5,
   "metadata": {},
   "outputs": [],
   "source": [
    "# YOUR CODE GOES HERE\n",
    "\n"
   ]
  },
  {
   "cell_type": "markdown",
   "metadata": {},
   "source": [
    "---\n",
    "\n",
    "## Let's now do some word comparisons"
   ]
  },
  {
   "cell_type": "markdown",
   "metadata": {},
   "source": [
    "**TASK** : Create a varible called `cat` and assign it the vector for `\"cat\"`, and create a varible called `dog` and assign it the vector for `\"dog\"`:"
   ]
  },
  {
   "cell_type": "code",
   "execution_count": 6,
   "metadata": {},
   "outputs": [],
   "source": [
    "# YOUR CODE GOES HERE\n",
    "\n"
   ]
  },
  {
   "cell_type": "markdown",
   "metadata": {},
   "source": [
    "### How to compare vectors\n",
    "\n",
    "**HEADS UP**- Don't worry if your not comfortable with the following maths, You won't need to fully understand it to progress, it's just a bit of extra background knowledge 😎\n",
    "\n",
    "On of the most common ways of comparing vectors is using [Cosine similarity](https://en.wikipedia.org/wiki/Cosine_similarity)\n",
    "\n",
    "Cosine similarity is a measure focusing on the angle between 2 vectors, if the the angle is small -> the cosine will be high and therefore they are similare vectors, if the angle is large -> the cosine will be small and therefore : they are very different vectors: \n",
    "\n",
    "![cosine](images/cosine_similarity.png)\n",
    "\n",
    "http://blog.christianperone.com/2013/09/machine-learning-cosine-similarity-for-vector-space-models-part-iii/\n",
    "\n",
    "It's calculated with the following equation :\n",
    "\n",
    "![cosine equation](images/cosine1.png)\n",
    "\n",
    "We can do this in raw numpy with the following code:\n",
    "\n",
    "```python\n",
    "np.dot(VECTOR_1, VECTOR_2) / (np.linalg.norm(VECTOR_1) * np.linalg.norm(VECTOR_2))\n",
    "```\n",
    "\n",
    "**TASK** : Calculate the cosine similarity between your `dog` vector and your `cat` vector:\n",
    "\n",
    "Your answer should be close to `0.801685`"
   ]
  },
  {
   "cell_type": "code",
   "execution_count": 7,
   "metadata": {},
   "outputs": [],
   "source": [
    "# YOUR CODE GOES HERE\n",
    "\n"
   ]
  },
  {
   "cell_type": "markdown",
   "metadata": {},
   "source": [
    "Ofcourse there are libraries that can do this for your!\n",
    "\n",
    "**TASK** : import the `cosine` function from the `scipy` package with the following import statement:\n",
    "\n",
    "```python\n",
    "from scipy.spatial.distance import cosine\n",
    "```"
   ]
  },
  {
   "cell_type": "code",
   "execution_count": 8,
   "metadata": {},
   "outputs": [],
   "source": [
    "# YOUR CODE GOES HERE\n",
    "\n"
   ]
  },
  {
   "cell_type": "markdown",
   "metadata": {},
   "source": [
    "**TASK** : Calulate the similarity between the dog and cat vectors like before using the `cosine` funnction\n",
    "```python\n",
    "1 - cosine(VECTOR_1, VECTOR_2)\n",
    "```\n",
    "\n",
    "same as before, your answer should be close to `0.801685`"
   ]
  },
  {
   "cell_type": "code",
   "execution_count": 9,
   "metadata": {},
   "outputs": [],
   "source": [
    "# YOUR CODE GOES HERE\n",
    "\n"
   ]
  },
  {
   "cell_type": "markdown",
   "metadata": {},
   "source": [
    "### Even easier! Spacy has it built in!\n",
    "\n",
    "Spacy will do this for you using `.similarity` on an nlp object:\n",
    "\n",
    "```python\n",
    "nlp('car').similarity(nlp('bike'))\n",
    "```\n",
    "\n",
    "**TASK** : Get the similarity between `'dog'` and `'cat'` using spacy's `.similarity` function:\n",
    "\n",
    "same as before, your answer should be close to `0.801685`"
   ]
  },
  {
   "cell_type": "code",
   "execution_count": 10,
   "metadata": {},
   "outputs": [],
   "source": [
    "# YOUR CODE GOES HERE\n",
    "\n"
   ]
  },
  {
   "cell_type": "markdown",
   "metadata": {},
   "source": [
    "Below is a list of words\n",
    "\n",
    "**TASK** : print out how similiar each word is to `'cat'` in order to help you find out which is the best replacement pet:\n",
    "\n",
    "Check the completed notebook if your get stuck"
   ]
  },
  {
   "cell_type": "code",
   "execution_count": 11,
   "metadata": {},
   "outputs": [],
   "source": [
    "words = ['car', 'truck', 'dragon', 'data', 'horse', 'fish' , 'lion']\n",
    "\n",
    "#YOUR CODE GOES HERE\n",
    "\n"
   ]
  },
  {
   "cell_type": "markdown",
   "metadata": {},
   "source": [
    "---\n",
    "\n",
    "## Onwards to document vectors!"
   ]
  },
  {
   "cell_type": "markdown",
   "metadata": {},
   "source": [
    "The simplest way to generate a document vector is just to get the average word vector in that document.\n",
    "\n",
    "You can do this using the techniques you've learnt previously using standard python loops and simple numpy operations e.g adding vectors using `+` and dividing using `/`.\n",
    "\n",
    "**TASK** : Calculate the average word vector of the sentence `'why is the cat on the boat'` below. (I've provided a few bits of code to help)\n",
    "\n",
    "The `.sum()` of the document vector should around `-0.8358`\n",
    "\n",
    "Check the completed noetbook if you get stuck"
   ]
  },
  {
   "cell_type": "code",
   "execution_count": 12,
   "metadata": {},
   "outputs": [],
   "source": [
    "sentence = 'why is the cat on the boat'\n",
    "\n",
    "# numpy array with the dimensions (300,), filled with zeros\n",
    "total = np.zeros(300)\n",
    "\n",
    "# words from the text split into a list\n",
    "words = sentence.split(' ')\n",
    "\n",
    "# number of words in the sentence\n",
    "n = len(words)\n",
    "\n",
    "# the variable that the average word vector should be stored in \n",
    "average = None\n",
    "\n",
    "\n",
    "# YOUR CODE GOES HERE\n",
    "\n",
    "\n",
    "\n",
    "\n",
    "# YOUR CODE ENDS HERE\n",
    "\n",
    "\n",
    "if average:\n",
    "    print(average.sum())"
   ]
  },
  {
   "cell_type": "markdown",
   "metadata": {},
   "source": [
    "### How you can do the same thing a bit quicker:\n",
    "\n",
    "```python\n",
    "# use list comprehension to get the vectors for each word\n",
    "word_vector_list = [nlp(word).vector for word in sentence.split(' ')]\n",
    "\n",
    "# calculate the mean across each word\n",
    "average_word_vector = np.mean(word_vector_list, axis=0)\n",
    "\n",
    "# check that the sum is the same as the other way\n",
    "print(average_word_vector.sum())\n",
    "```\n",
    "\n",
    "**TASK** : Copy and past the above code to check it gets a similar result as the previous task (should around `-0.8358`):"
   ]
  },
  {
   "cell_type": "code",
   "execution_count": 13,
   "metadata": {},
   "outputs": [],
   "source": [
    "# YOUR CODE GOES HERE\n",
    "\n"
   ]
  },
  {
   "cell_type": "markdown",
   "metadata": {},
   "source": [
    "### Spacy to the rescue! again!\n",
    "\n",
    "Spacy will already do this average word vector calculation for you:\n",
    "\n",
    "```python\n",
    "nlp('what ever you want to say').vector\n",
    "```\n",
    "\n",
    "**TASK** : Do this for the sentence you used previously and check the sum is similare (should around `-0.8358`):"
   ]
  },
  {
   "cell_type": "code",
   "execution_count": 14,
   "metadata": {},
   "outputs": [],
   "source": [
    "# YOUR CODE GOES HERE\n",
    "\n"
   ]
  },
  {
   "cell_type": "markdown",
   "metadata": {},
   "source": [
    "Like how you've already done it with words, find out which of the following sentences is most similar to the sentence `'why is my cat on the car'`:\n",
    "\n",
    "**TASK** : print out the similarity score for each sentence against the `sentence_to_compare` to help you see which one is most similar:"
   ]
  },
  {
   "cell_type": "code",
   "execution_count": 15,
   "metadata": {},
   "outputs": [],
   "source": [
    "sentence_to_compare = 'why is my cat on the car'\n",
    "\n",
    "sentences = [\"where did my dog go\", \n",
    "             \"dude where's my car\",\n",
    "             \"i've lost my cat in the car\",\n",
    "             \"get that boat back\",\n",
    "             \"find my cat\",\n",
    "             \"why is my dog on the drugs\"]\n",
    "\n",
    "# YOURE CODE GOES HERE\n",
    "\n"
   ]
  },
  {
   "cell_type": "markdown",
   "metadata": {},
   "source": [
    "Let's improve our sentence similarity system by removing stop words i.e very common words that carry little meaning. \n",
    "\n",
    "Below we have created the function `remove_stop_words()` which will remove stop words from text passed to it e.g:\n",
    "\n",
    "```python\n",
    "remove_stop_words('why is my dog on the drugs')\n",
    ">> 'dog drugs'\n",
    "```\n",
    "\n",
    "**TASK** : Using this function, do the same task as before (print out the similarity score for each sentence against the sentence_to_compare to help you see which one is most similar) but remove the stop words when your doing it."
   ]
  },
  {
   "cell_type": "code",
   "execution_count": 16,
   "metadata": {},
   "outputs": [],
   "source": [
    "# import the list of stop words from the spacy library\n",
    "from spacy.lang.en.stop_words import STOP_WORDS\n",
    "\n",
    "def remove_stop_words(text):\n",
    "    return ' '.join([word for word in text.split(' ') if word.lower() not in STOP_WORDS])\n",
    "\n",
    "\n",
    "# YOUR CODE GOES HERE\n",
    "\n"
   ]
  },
  {
   "cell_type": "markdown",
   "metadata": {},
   "source": [
    "---\n",
    "\n",
    "## Alrighty let's visualise some word vectors! (task free section)"
   ]
  },
  {
   "cell_type": "markdown",
   "metadata": {},
   "source": [
    "Visulising word vectors is a bit tricky becuase the vectors we are using happen to have 300 dimensions, and we as human beings are most comfortable looking at 2D data (charts, graphs etc).\n",
    "\n",
    "So lets covert our 300D data down to 2D data using [PCA](http://setosa.io/ev/principal-component-analysis/)!\n",
    "\n",
    "PCA will basically just project the data points down whilst trying to keep the relative distances between data points the same i.e if the distance between `cat` and `boat` is more than the distance between `cat` and `dog` in 300 dimensions then the distance between `cat` and `boat` will be more than the distance between `cat` and `dog` in 2 dimensions (*or atleast PCA will work to try and make that happen*).\n",
    "\n",
    "### Play around with adding words to the `words` list and see where they end up"
   ]
  },
  {
   "cell_type": "code",
   "execution_count": 17,
   "metadata": {},
   "outputs": [
    {
     "data": {
      "text/plain": [
       "array([[ 4.09993372, -2.28173842],\n",
       "       [ 3.59422001, -2.38095955],\n",
       "       [-3.54300949, -0.36220067],\n",
       "       [ 2.59345655,  6.11416944],\n",
       "       [-1.08535571, -1.63163824],\n",
       "       [-2.43593785,  0.95236696],\n",
       "       [-3.22330723, -0.40999952]])"
      ]
     },
     "execution_count": 17,
     "metadata": {},
     "output_type": "execute_result"
    }
   ],
   "source": [
    "# import the PCA module from sklearn\n",
    "from sklearn.decomposition import PCA\n",
    "\n",
    "# this is just making sure we have loaded in our word vectors\n",
    "if 'nlp' not in locals():\n",
    "    nlp = spacy.load('en_core_web_md')\n",
    "\n",
    "def get_word_vectors(words):\n",
    "    # converts a list of words into their word vectors\n",
    "    return [nlp(word).vector for word in words]\n",
    "\n",
    "words = ['car', 'truck', 'dragon', 'data', 'horse', 'fish' , 'lion']\n",
    "\n",
    "# intialise pca model and tell it to project data down onto 2 dimensions\n",
    "pca = PCA(n_components=2)\n",
    "\n",
    "# fit the pca model to our 300D data, this will work out which is the best \n",
    "# way to project the data down that will best maintain the relative distances \n",
    "# between data points. It will store these intructioons on how to transform the data.\n",
    "pca.fit(get_word_vectors(words))\n",
    "\n",
    "# Tell our (fitted) pca model to transform our 300D data down onto 2D using the \n",
    "# instructions it learnt during the fit phase.\n",
    "word_vecs_2d = pca.transform(get_word_vectors(words))\n",
    "\n",
    "# let's look at our new 2D word vectors\n",
    "word_vecs_2d"
   ]
  },
  {
   "cell_type": "code",
   "execution_count": 18,
   "metadata": {},
   "outputs": [
    {
     "data": {
      "image/png": "[encoded data removed]",
      "text/plain": [
       "<matplotlib.figure.Figure at 0x10e1d4048>"
      ]
     },
     "metadata": {},
     "output_type": "display_data"
    }
   ],
   "source": [
    "# create a nice big plot \n",
    "plt.figure(figsize=(20,15))\n",
    "\n",
    "# plot the scatter plot of where the words will be\n",
    "plt.scatter(word_vecs_2d[:,0], word_vecs_2d[:,1])\n",
    "\n",
    "# for each word and coordinate pair: draw the text on the plot\n",
    "for word, coord in zip(words, word_vecs_2d):\n",
    "    x, y = coord\n",
    "    plt.text(x, y, word, size= 15)\n",
    "\n",
    "# show the plot\n",
    "plt.show()"
   ]
  },
  {
   "cell_type": "markdown",
   "metadata": {},
   "source": [
    "\n",
    "\n",
    "---"
   ]
  },
  {
   "cell_type": "markdown",
   "metadata": {},
   "source": [
    "# Let's build an article recommendation system\n",
    "\n",
    "As you've probably seen on plenty of media sites, they love trying to recommend you what you should be reading/watching next in order to keep you on their site.\n",
    "\n",
    "If you have loads of user data, you could come up with some sort of recommender system, however these systems will no perform so well when there is limited user interaction data e.g for newly publish media that no-one has viewed yet.\n",
    "\n",
    "So lets build a system that will tell you what to read next based on the word vector similarity of the titles of articles.\n",
    "\n",
    "![related article](images/related_articles.png)"
   ]
  },
  {
   "cell_type": "markdown",
   "metadata": {},
   "source": [
    "## 1. Import the list of medium articles \n",
    "\n",
    "We are going use pandas to read in the .csv, so the... \n",
    "\n",
    "**TASK** is to import pandas :\n",
    "\n",
    "```python\n",
    "import pandas as pd\n",
    "```\n",
    "\n",
    "then read in the csv into a Serise (that pandas for list 😉) and assign it to a varible named `medium_titles`:\n",
    "\n",
    "```python\n",
    "pd.Series.from_csv('medium_articles.csv').values\n",
    "```\n",
    "\n",
    "the `.values` bit will get the titles out as a numpy array which works better with the functions we wrote earlier.\n",
    "\n",
    "the `.shape` of your new `medium_titles` varible should be `(192,)`"
   ]
  },
  {
   "cell_type": "code",
   "execution_count": 19,
   "metadata": {},
   "outputs": [],
   "source": [
    "# YOUR CODE GOES HERE \n",
    "\n"
   ]
  },
  {
   "cell_type": "markdown",
   "metadata": {},
   "source": [
    "## 2. Covert our titles to title-vectors\n",
    "\n",
    "We used a function earlier called `get_word_vectors()` which converted a list of text into a list of vectors.\n",
    "\n",
    "**TASK** : use `get_word_vectors()` to convert your `medium_titles` into vectors and assign them to a varible called `title_vectors`, or don't, your call"
   ]
  },
  {
   "cell_type": "code",
   "execution_count": 20,
   "metadata": {},
   "outputs": [],
   "source": [
    "# YOUR CODE GOES HERE\n",
    "\n"
   ]
  },
  {
   "cell_type": "markdown",
   "metadata": {},
   "source": [
    "## 3. Build a Nearest Neighbors model that will do all of the similarity searching stuff for us 😱\n",
    "\n",
    "Yes, there is a really nice simple model called [nearest neighbors](https://en.wikipedia.org/wiki/Nearest_neighbor_search) that specilises in seraching for data points that are most similar to a given data point. You may also see it used in classification and regression models in the form of [K-Nearnest-neighbors](http://scikit-learn.org/stable/modules/generated/sklearn.neighbors.KNeighborsClassifier.html)\n",
    "\n",
    "![neighbors](images/nn_algo.png)\n",
    "\n",
    "**TASK** : import the `NearestNeighbors` module form sklearn (NOT **K**NearestNeighbors), it resides within the `.neighbors` package of sklearn"
   ]
  },
  {
   "cell_type": "code",
   "execution_count": 21,
   "metadata": {},
   "outputs": [],
   "source": [
    "# YOUR CODE GOES HERE\n",
    "\n"
   ]
  },
  {
   "cell_type": "markdown",
   "metadata": {},
   "source": [
    "**TASK** : create a new NearestNeighbors model and assign it to a varible called `neig_model`.\n",
    "\n",
    "```python\n",
    "NearestNeighbors(n_neighbors=NUMBER_OF_NEIGHBORS)\n",
    "```\n",
    "\n",
    "the `n_neighbors` property defines the number of closest data points (neighbors) to retreive.\n",
    "\n",
    "![n_neighbors](images/n_neighbors.png)\n",
    "\n",
    "we want use this model to find the closest 3 titles"
   ]
  },
  {
   "cell_type": "code",
   "execution_count": 22,
   "metadata": {},
   "outputs": [],
   "source": [
    "# YOUR CODE GOES HERE\n",
    "\n"
   ]
  },
  {
   "cell_type": "markdown",
   "metadata": {},
   "source": [
    "**TASK** : fit the model to your `title_vectors`"
   ]
  },
  {
   "cell_type": "code",
   "execution_count": 23,
   "metadata": {},
   "outputs": [],
   "source": [
    "# YOUR CODE GOES HERE\n",
    "\n"
   ]
  },
  {
   "cell_type": "markdown",
   "metadata": {},
   "source": [
    "**TASK** : Find the titles that are most similare to the phrase `'I want a data job'`.\n",
    "\n",
    "You query your model for closest neighbors by using the `.kneighbors()` function and passing it a **list** of vectors you want to search for, becuase we are only searching based on one vector, you should wrap your vector is square brackets e.g `.kneighbors([MY_VECTOR])`\n",
    "\n",
    "![neighbors](images/nn_model.png)\n",
    "\n",
    "The `.kneighbors()` function will return a list of distances and indices (see [docs](http://scikit-learn.org/stable/modules/generated/sklearn.neighbors.NearestNeighbors.html#sklearn.neighbors.NearestNeighbors.kneighbors)).\n",
    "\n",
    "you could just read the output of the `.kneighbors()` function and manually get the titles e.g `medium_titles[78]`\n",
    "\n",
    "or\n",
    "\n",
    "you can store them by doing the following :\n",
    "\n",
    "```python\n",
    "distances, indices = neig_model.kneighbors([YOUR_VECTOR])\n",
    "```\n",
    "\n",
    "The indices are the indices of the data points you used to `fit` your model that are closest to the vector you passed in. \n",
    "\n",
    "The distances are the distances to each of those points. \n",
    "\n",
    "**Useful numpy tip** : numpy has a function called [take](https://docs.scipy.org/doc/numpy-1.14.0/reference/generated/numpy.take.html) which will extract out the specific indices from a given list:\n",
    "\n",
    "```python\n",
    "some_list = ['a', 'b', 'c', 'd', 'e', 'f']\n",
    "\n",
    "some_indices = [2,5,1]\n",
    "\n",
    "np.take(some_list, some_indices)\n",
    "\n",
    ">> ['c', 'f', 'b']\n",
    "```\n",
    "\n",
    "** you can check the completed noetboook if you get stuck **"
   ]
  },
  {
   "cell_type": "code",
   "execution_count": 24,
   "metadata": {},
   "outputs": [],
   "source": [
    "# YOUR CODE GOES HERE\n",
    "\n"
   ]
  },
  {
   "cell_type": "markdown",
   "metadata": {},
   "source": [
    "## Extra task\n",
    "\n",
    "Tweak you neigbors model to ignore stop words. \n",
    "\n",
    "Some tips:\n",
    "\n",
    "* The input data used to fit the model will need to be changed\n",
    "* The vector you pass to the `.kneighbors()` function will need changing too\n",
    "* We already have a function `remove_stop_words(text)` that removes the stop words from text"
   ]
  },
  {
   "cell_type": "markdown",
   "metadata": {},
   "source": [
    "## Congrats on finishing! 🚀🚀🚀\n",
    "\n",
    "You should now have a some new ideas on how you can use word vectors.\n",
    "\n",
    "For more advanced use cases of word vectors (deep learning, and how the vectors themselves are trained) I recommend looking at [Andrew Ng's deeplearning course on sequence models](https://www.coursera.org/learn/nlp-sequence-models)!"
   ]
  }
 ],
 "metadata": {
  "kernelspec": {
   "display_name": "Python 3",
   "language": "python",
   "name": "python3"
  },
  "language_info": {
   "codemirror_mode": {
    "name": "ipython",
    "version": 3
   },
   "file_extension": ".py",
   "mimetype": "text/x-python",
   "name": "python",
   "nbconvert_exporter": "python",
   "pygments_lexer": "ipython3",
   "version": "3.5.2"
  }
 },
 "nbformat": 4,
 "nbformat_minor": 1
}
