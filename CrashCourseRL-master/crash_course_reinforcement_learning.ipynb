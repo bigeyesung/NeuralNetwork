{
  "cells": [
    {
      "metadata": {
        "_uuid": "8f2839f25d086af736a60e9eeb907d3b93b6e0e5",
        "_cell_guid": "b1076dfc-b9ad-4769-8c92-a6c4dae69d19",
        "trusted": true
      },
      "cell_type": "code",
      "source": "# This Python 3 environment comes with many helpful analytics libraries installed\n# It is defined by the kaggle/python docker image: https://github.com/kaggle/docker-python\n# For example, here's several helpful packages to load in \n\nimport numpy as np # linear algebra\nimport pandas as pd # data processing, CSV file I/O (e.g. pd.read_csv)\n",
      "execution_count": null,
      "outputs": []
    },
    {
      "metadata": {
        "_uuid": "d0726d4ef457df4a28173b37445ad500e90459a8"
      },
      "cell_type": "markdown",
      "source": "![openAI](https://openai.com/assets/images/home/openai-homepage@2x-4e2e39cbd1.svg)\nFounded with the aim to build a safe artificial general intelligence, OpenAI have developed the Gym platform. This is a collection of environments and problems designed to flex the muscles of reinforcement learning algorithms. \n\nLet's get our gym membership..."
    },
    {
      "metadata": {
        "_cell_guid": "79c7e3d0-c299-4dcb-8224-4455121ee9b0",
        "_uuid": "d629ff2d2480ee46fbb7e2d37f6b5fab8052498a",
        "trusted": true
      },
      "cell_type": "code",
      "source": "import numpy as np\nimport gym\nimport random\nimport math",
      "execution_count": null,
      "outputs": []
    },
    {
      "metadata": {
        "_uuid": "a266b510f100f8f91ba407da581a6298facff597"
      },
      "cell_type": "markdown",
      "source": "You're just off the phone to  Uber, they're having a bit of trouble with their new self driving car and they want you to fix it.\n\n\"No worries, Dara Khosrowshahi, I've got this under control!\", *click*.\n\nThere are **`4`** locations represented by different letters and it's your job to pick up the passenger at one location and drop them off in another.\n\nLet's load up our first environment `Taxi-v2`. "
    },
    {
      "metadata": {
        "trusted": true,
        "_uuid": "84d59004d5dbd9023868fe7ec29529177bb7416f"
      },
      "cell_type": "code",
      "source": "env = gym.make(\"Taxi-v2\")",
      "execution_count": null,
      "outputs": []
    },
    {
      "metadata": {
        "_uuid": "6e528e76fa7ccdb7a3fb74ad68e5a1d3c3e62d97"
      },
      "cell_type": "markdown",
      "source": "We can view the state of our environment by using `render`."
    },
    {
      "metadata": {
        "trusted": true,
        "scrolled": true,
        "_uuid": "ea998fbfd4f0ffcb4436461df3efd219ff255477"
      },
      "cell_type": "code",
      "source": "env.reset()\nenv.render()",
      "execution_count": null,
      "outputs": []
    },
    {
      "metadata": {
        "_uuid": "e190c9a9aab248ac4fc62967d64b344eef63ff8d"
      },
      "cell_type": "markdown",
      "source": "Now we can see our environment!\n* Yellow square represents the taxi\n* “|” represents a wall\n* The letter coloured blue represents the passenger pick-up location\n* The letter coloured purple represents the passengers destination \n\n**Note** The taxi will turn green when a passenger has been picked up.\n\nThere are six possible moves a taxi can take:\n* Up `0`\n* Down `1`\n* Right `2`\n* Left `3`\n* Pickup `4`\n* Dropoff `5`"
    },
    {
      "metadata": {
        "_uuid": "bc5236bdbdeda8999ab924b0daff78894bd9c05f"
      },
      "cell_type": "markdown",
      "source": "Let's see a movement in action"
    },
    {
      "metadata": {
        "trusted": true,
        "_uuid": "bfc7e8931a7959a8472e4d15583a103c092b29f7"
      },
      "cell_type": "code",
      "source": "# Pick a random state and render it\nenv.env.s = 420\nenv.render()",
      "execution_count": null,
      "outputs": []
    },
    {
      "metadata": {
        "_uuid": "872b8892b9c0e63205b5c0f4f63a364a3ab12e23"
      },
      "cell_type": "markdown",
      "source": "Let's move to the right by taking a `step`"
    },
    {
      "metadata": {
        "trusted": true,
        "_uuid": "4d4e5c033f406acd1403471cdafdf4b9f3c2cd28"
      },
      "cell_type": "code",
      "source": "# Remember right corresponds to 2\nenv.step(2)\nenv.render()",
      "execution_count": null,
      "outputs": []
    },
    {
      "metadata": {
        "_uuid": "17c2c5d12124f99d45295f0a9da7ec6180e20190"
      },
      "cell_type": "markdown",
      "source": "See, we've moved a space to the right. "
    },
    {
      "metadata": {
        "_uuid": "301a9858ec5738624a74d173332be060ef3d2aad"
      },
      "cell_type": "markdown",
      "source": "Let's look a bit more closely at the output of `step`"
    },
    {
      "metadata": {
        "trusted": true,
        "_uuid": "fcac0d5aa562e3fb8e927629062a339ed98a65c0"
      },
      "cell_type": "code",
      "source": "env.step(2)",
      "execution_count": null,
      "outputs": []
    },
    {
      "metadata": {
        "_uuid": "fcc6613ce1a818fb64da92bcb6eb6c525710359f"
      },
      "cell_type": "markdown",
      "source": "These should be unpacked like this..."
    },
    {
      "metadata": {
        "trusted": true,
        "_uuid": "0d38f4bc063eb7ec772fef740121c59405357662"
      },
      "cell_type": "code",
      "source": "state, reward, done, info = env.step(2)\nprint('state: {}'.format(state))\nprint('reward: {}'.format(reward))\nprint('done: {}'.format(done))\nprint('info: {}'.format(info))",
      "execution_count": null,
      "outputs": []
    },
    {
      "metadata": {
        "_uuid": "f70ce673a1ce79710aa0167eb89ab823252194a5"
      },
      "cell_type": "markdown",
      "source": "These outputs are the 'bread and butter' of reinforcement learning\n* state- Current situation of the agent in the environment\n* reward- Feedback from an action by the agent in the environment\n* done- Boolean indicating whether the agent has terminated or completed its environment\n* info- Diagnositic information about the agents last action. \n\n\nYou receive +20 points for a successful dropoff, and lose 1 point for every timestep it takes. There is also a 10 point penalty for illegal pick-up and drop-off actions."
    },
    {
      "metadata": {
        "_uuid": "796af916ac4e94ec3aa16a54a806e43e28c92b3d"
      },
      "cell_type": "markdown",
      "source": "Reward is kind of easy to misinterpret, it's normally a positive, however, in reinforcement learning it can either a positive or a negative.\n\n**Positive**\n* The agent receives `+20` points for a successful drop off\n\n**Negative**\n* The agent receives `-10` points for each mistake it makes when picking up or dropping off a passenger\n* The agent receives `-1` point for every step it makes.\n"
    },
    {
      "metadata": {
        "_uuid": "79f800aefad0cec783ea4a641a47b410d3bdfc40"
      },
      "cell_type": "markdown",
      "source": "*Every breath you take*\n\n*Every move you make*\n\n*Every bond you break*\n\n*Every step you take*\n\n*I'll be <s>watching</s> rewarding you (with -1) *\n\nThe reason why we give a negative reward at each turn, it basically forces the agent to find the quickest possible solution."
    },
    {
      "metadata": {
        "_uuid": "3e4f7fdb27f92a7895cc570c713312919a8f40bb"
      },
      "cell_type": "markdown",
      "source": "Now what?\n\nWell we have the agent, environment and rewards. Lets explore.\n\nWhen we build any machine learning model we want to start simple. \n\nWe know our objective is to pick up and drive our passenger to their destination, let's pick random actions until we get it right.\n\nUse ` env.action_space.sample()` to take random actions until you have a successful trip.\n\n**Tip** Think how a successful trip is rewarded.\n"
    },
    {
      "metadata": {
        "trusted": true,
        "_uuid": "045508900840032373e5f67c0b831cc2daf87bfc"
      },
      "cell_type": "code",
      "source": "state = env.reset()\nreward = None\nsteps = 0\n\nwhile reward != 20:\n    state, reward, done, info = env.step(env.action_space.sample())\n    steps += 1\n\nprint('Random driving took {} steps to complete a journey'.format(steps))",
      "execution_count": null,
      "outputs": []
    },
    {
      "metadata": {
        "_uuid": "d23c7b6610873f4afacaa5ecd6d7948ad1e69008"
      },
      "cell_type": "markdown",
      "source": "Run it a few more times and see how long it takes."
    },
    {
      "metadata": {
        "trusted": true,
        "_uuid": "851d7a7c93deea6dc4c53a0e9e0303385b74bb7a"
      },
      "cell_type": "code",
      "source": "random_driving_store = []\nfor i in range(1,100):\n    state = env.reset()\n    reward = None\n    steps = 0\n\n    while reward != 20:\n        state, reward, done, info = env.step(env.action_space.sample())\n        steps += 1\n\n    random_driving_store.append(steps)\n    \nfrom matplotlib import pyplot as plt\nimport numpy as np\n\nplt.figure()\nplt.hlines(0.5,0.5,2)  # Draw a horizontal line\nplt.eventplot(random_driving_store, orientation='horizontal', colors='k')\n\nplt.show()\nprint('Average number of steps for a random drive {}'.format(np.mean(random_driving_store)))",
      "execution_count": null,
      "outputs": []
    },
    {
      "metadata": {
        "_uuid": "278e2352413ce71a913024099346a3180b9aaf69"
      },
      "cell_type": "markdown",
      "source": "No surprises here, asigning a random action will get our taxi nowhere fast.\n\nWe need a way for our agent to learn how to manouver the mean streets of the gym. Lets try building a `Q-table`.\n\nThink of a Q-table initially as a blank map of the environment. Your agent will navigate the space and updates the table with anything it finds interesting.\n\nWith each iteration the agent gets more and more information about the environment. In no time at all, your agent is whizzing around the environment.\n\nYour map has now become a cheatsheet!\n\nThe Q-table is made up of rows equal to the number of `states` and columns equal to the number of `actions`.\n\nThe value at cell indicates the expected reward for an action given that state.\n\nLet's build our Q-table..."
    },
    {
      "metadata": {
        "trusted": true,
        "scrolled": true,
        "_uuid": "02602be8087ca7f4c5d1474740a9bd578d04395e"
      },
      "cell_type": "code",
      "source": "state_size = env.observation_space.n\naction_size = env.action_space.n\n\nprint('number of possible states: {}'.format(state_size))\nprint('number of possible actions: {}'.format(action_size))",
      "execution_count": null,
      "outputs": []
    },
    {
      "metadata": {
        "_uuid": "bf0a6673c1311bb359c1228e8b13a6bf26d39503"
      },
      "cell_type": "markdown",
      "source": "We've now got the dimensions of our Q-table, let's initialize our Q-table as a blank canvas (all zeros)"
    },
    {
      "metadata": {
        "trusted": true,
        "_uuid": "2041499ca99c3bc369aca2f61c44b0f1ad2e1523"
      },
      "cell_type": "code",
      "source": "Q = np.zeros([state_size, action_size])\nQ",
      "execution_count": null,
      "outputs": []
    },
    {
      "metadata": {
        "_uuid": "6ed790d6fa53f1ec9102e542915e62b096e27aa1"
      },
      "cell_type": "markdown",
      "source": "Now we have the empty table, we get our agent to update it with information.\n\nThe Q-learning algorithm Process:\n![process](https://cdn-images-1.medium.com/max/1600/1*QeoQEqWYYPs1P8yUwyaJVQ.png)"
    },
    {
      "metadata": {
        "_uuid": "ca9b3e9f8ab0955278f8ad9fddd61a5bc0b94341"
      },
      "cell_type": "markdown",
      "source": "1. Initialize the Q table \n * Done\n2. Choose an action\n * Pick an action `a` in the agents current state `s` based selection criteria of Q-value estimates\n3. Perform action\n * Perform the action chosen\n4. Measure reward\n * Given the action taken `a` what is the new observed outcome state `s’` and reward `r`\n 5. Update Q \n  * Use Bellman equation to update Q-table... \n \n![bellman](https://cdn-images-1.medium.com/max/2600/1*jmcVWHHbzCxDc-irBy9JTw.png) \n\n\n\n\n\n\nummmmm sorry, what?\n\nThe Bellman equation is an optimization technique used in dynamic programming. It aims to find the greatest value between a decision at the current state and a new state. By breaking the dynamic optimization problem into a set of smaller problems it makes the overarchng problem easier to solve.\n"
    },
    {
      "metadata": {
        "_uuid": "71e7b5418b2b8b3a1b946592a774761b5c4eb63a"
      },
      "cell_type": "markdown",
      "source": "We will now code up this Q-learning process to build our optimized Q-table.\n"
    },
    {
      "metadata": {
        "trusted": true,
        "_uuid": "78cc70c90a58cc830ea0f8662c3943f530f9cfbb"
      },
      "cell_type": "code",
      "source": "total_reward = 0\nlearning_rate = 0.7",
      "execution_count": null,
      "outputs": []
    },
    {
      "metadata": {
        "_uuid": "487df6d33bafd431419231e32a3cecd14124e9b6"
      },
      "cell_type": "markdown",
      "source": "We will start with a single episode, ie the episode completes when the agent fails or completes the trip."
    },
    {
      "metadata": {
        "trusted": true,
        "_uuid": "552e6cecb3b31c0a09653a1e4877e1a920460003",
        "scrolled": false
      },
      "cell_type": "code",
      "source": "done = False\ntotal_reward, reward = 0,0\nstate = env.reset()\nwhile done != True: # Keeps making actions until episode completes\n        action = np.argmax(Q[state]) # Finds the action with the greatest reward. TIP each state is a row in the Q-table, find the best action at this state by finding the max value\n        new_state, reward, done, info = env.step(action) #Takes the action with the greatest reward\n        Q[state, action] += learning_rate * (reward + np.max(Q[new_state]) - Q[state, action]) # Updates our Q-table based on the state and actions. TIP If your stuck have a look at this pseudo code below\n        total_reward += reward # Update our total reward\n        state = new_state # Update our current state\n#         env.render() # Print the current agent-environment interaction\nprint('Total reward for this episode: {}'.format(total_reward))\n\n\n# New Q value = Current Q value + learning rate * (Reward + (maximum value of new state) — Current Q value )",
      "execution_count": null,
      "outputs": []
    },
    {
      "metadata": {
        "_uuid": "aa42c540e2a33248e262bc139f3d1ad4b589929f"
      },
      "cell_type": "markdown",
      "source": "Now we've built the logic, it's time to learn and build our Q-table across episodes. This will be easy, we'll stick our previous code in a `for loop` and iterate through `2000 episodes`"
    },
    {
      "metadata": {
        "trusted": true,
        "_uuid": "1cf3aff1f99c6478530c262a200d1e01acd4f278"
      },
      "cell_type": "code",
      "source": "Q = np.zeros([state_size, action_size])\n\ntotal_reward = 0\nlearning_rate = 0.7\n\nfor episode in range(1,2001):\n    done = False\n    total_reward, reward = 0,0\n    state = env.reset()\n    while done != True:\n        action = np.argmax(Q[state])\n        new_state, reward, done, info = env.step(action)\n        Q[state, action] += learning_rate * (reward + np.max(Q[new_state]) - Q[state, action])\n        total_reward += reward\n        state = new_state   \n    if episode % 50 == 0:\n        print('Episode {} Total Reward: {}'.format(episode, total_reward))",
      "execution_count": null,
      "outputs": []
    },
    {
      "metadata": {
        "_uuid": "4ca9c2e6c598cc9a989fd4b8e07dee1501d281df"
      },
      "cell_type": "markdown",
      "source": "# Multi armed bandits\n\nIn the last exercise we were playing with taxis in a highly sterile environment. What we're going to do now is apply a reinforcement learning technique known as a multi armed bandit in a business case scenario.\n\nThe name multi armed bandit comes from a type of slot machine. You pull the lever, bleep bloop and either the machine pays out some money, or it doesn't.\n\nYou're faced with 6 slot machines with different probabilities of a payout. If you knew which one had the highest likelihood of a payout you would just stick with that one, right? \nThe aim of a multi armed bandit is find the action with the greatest amount of reward, while still earning reward during this exploration phase.\n\nThis method of determining probability distrobutions while exploiting the most successful can be used in a huge variety of industries.\n* **Clinical trials**- Exploration is akin to identifying an optimum treatment, while the exploitation occurs when treating patients efficiently as rapidly as possible from when the trial begins.\n* **Game design**- Creating and experimenting with variants of a game mechanic, more players will be allocated to the variant with the greater level of success, thus ensuring maximized user interaction throughout the experiment.\n\nHowever, the most used application of a multi armed bandit is as a turbo charged A/B test for product and advertising.\n\nA/B testing is by far the most common way to gage user preference. The main problem of traditional A/B tests is that it is split into two separate stages exploration and **then** exploitation. \n\nWheras multi armed bandits combine both these phases, ie gives you the ability to earn a reward whilst still trying to find the optimum action.\n\nThe goal of this next exercise to optimize the performance of your companies display ads. You make money everytime a user interacts with the ad. Your collegue has whipped up 10 variations of the ad, let's see if we can find the highest performing variant!\n\n"
    },
    {
      "metadata": {
        "_uuid": "c9125e40cc63e98447f5ce0155324c18b22b79b6"
      },
      "cell_type": "markdown",
      "source": "![Multi-armed-bandit](https://conversionxl.com/wp-content/uploads/2015/09/multiarmedbandit.jpg)"
    },
    {
      "metadata": {
        "trusted": true,
        "_uuid": "53d8b6d6d33aae268a4c0b716c76ea14987c06c1"
      },
      "cell_type": "code",
      "source": "import numpy as np\nimport matplotlib.pyplot as plt\nimport pandas as pd\nimport random",
      "execution_count": null,
      "outputs": []
    },
    {
      "metadata": {
        "_uuid": "653295400d22a2cbc8c0b270c507470005e9c89f"
      },
      "cell_type": "markdown",
      "source": "We're going to have to do a bit of pretending here, the data we will be working with is a static file (not streamed data). Each row represents a user and each column represents the advert that user had seen. If the user clicked the ad, the cell has a value of 1, else it's 0."
    },
    {
      "metadata": {
        "trusted": true,
        "_uuid": "5c62d0debb6b3961453313908239fa0bcc53d0c6",
        "scrolled": true
      },
      "cell_type": "code",
      "source": "# Importing the dataset ../input/ad-datacsv/Ads_Optimisation.csv\ndataset = pd.read_csv('../input/ad-datacsv/Ads_Optimisation.csv')\nprint('First user clicked Ad 1, 5 and 9')\ndataset.head(1)",
      "execution_count": null,
      "outputs": []
    },
    {
      "metadata": {
        "_uuid": "ba97a6f22ffe73707676b7e138a13774f2fadcbe"
      },
      "cell_type": "markdown",
      "source": "Just like the last exercise it's best practice to start benchmarking with an agent taking random actions.\n\nLet's start with assigning users to a random advert."
    },
    {
      "metadata": {
        "trusted": true,
        "_uuid": "9748e56a9774287ba8c23e220dc6a1b00c9c7a17"
      },
      "cell_type": "code",
      "source": "number_of_users = 10000\nnumber_of_ads = 10\nads_selected = []\ntotal_reward = 0\nfor user in range(0, number_of_users):\n    ad_picked = random.randrange(number_of_ads)\n    ads_selected.append(ad_picked)\n    reward = dataset.values[user, ad_picked]\n    total_reward = total_reward + reward",
      "execution_count": null,
      "outputs": []
    },
    {
      "metadata": {
        "_uuid": "d7e2c844a612d3c3d4036c4c9851d44f7f3c9da5"
      },
      "cell_type": "markdown",
      "source": "The results are in from the random assignment. "
    },
    {
      "metadata": {
        "trusted": true,
        "_uuid": "6226b8c98f9a5633e0586746bc53a05858641e47"
      },
      "cell_type": "code",
      "source": "total_reward",
      "execution_count": null,
      "outputs": []
    },
    {
      "metadata": {
        "trusted": true,
        "_uuid": "2e2bb7f499559e61ce3b69ade8b15f7e9b4c0594"
      },
      "cell_type": "code",
      "source": "pd.Series(ads_selected).value_counts(normalize=True)",
      "execution_count": null,
      "outputs": []
    },
    {
      "metadata": {
        "trusted": true,
        "_uuid": "deb4cdc693ebcafa1342605acbe76098420cc1d7"
      },
      "cell_type": "code",
      "source": "pd.Series(ads_selected).value_counts(normalize=True).plot(kind='bar')",
      "execution_count": null,
      "outputs": []
    },
    {
      "metadata": {
        "_uuid": "7b6e13e2b5f61b30b6388bdc12656dd09950f89b"
      },
      "cell_type": "markdown",
      "source": "A good multi arm bandit with clever user assignment should give us a clear winner. As you can see from our results, there is no clear winner.\n\nTotal reward for the random selection algorithm comes out to be ~1000. \n\nAs this algorithm is not learning anything, it has no intuition into which ad is giving the maximum return. Therefore we would expect out of 10000 users it only gets ~1000, basically, a 1/10 chance, which makes sense as there are only 10 ads to choose from.\n\nRandom!\n\nThere must be a better way to optimize this problem...\n\n\n\n"
    },
    {
      "metadata": {
        "_uuid": "f59a7039cfb95d97265c4408786c875c5d9a0a0c"
      },
      "cell_type": "markdown",
      "source": "Please enter Upper Confidence Bound (UCB)....\n\nThis is one of the most commonly used optimization processes for multi armed bandits. The main point to grasp about this algorithm is that the less familiar the bandit is with a particular action, the more curious it becomes, and in turn increases the chance to explore said action.\n\nCheck out the graph below.\n![dist](https://s3-ap-south-1.amazonaws.com/av-blog-media/wp-content/uploads/2018/09/im_18.jpg)\n\n\nWe can see the distribution of three different adverts above. You notice that a1 is much more spread out that either a2 or a3. This high level of spread indicates that this advert has not been explored enough. Next iteration the bandit will make a1 its top priority for exploration. It will keep doing this until the spread of that adverts reward meets a desired threshold.\n\n\nHere's a bit of pseudo code to help you understand the algorithm a bit more clearly\n\nStep 1. Run each of the adverts once, this will give us an ititial idea of the reward landscape\nStep 2. For each iteration of t\nStep 3. Count number of times each ad was shown so far (Nt(a))\nStep 4. Plug values into the following expression\n![formula](https://s3-ap-south-1.amazonaws.com/av-blog-media/wp-content/uploads/2018/09/im_19.jpg)\n\nStep 5. Calculate and store the reward\n\nIf this seems a bit too complicated don't worry, it was for me. I've grabbed some code that will help us. Try and follow along..."
    },
    {
      "metadata": {
        "trusted": true,
        "_uuid": "23c6e8af7710a182c5b42cc7d4d50ecdd7db0eea"
      },
      "cell_type": "code",
      "source": "def UCB_multi_armed_bandit(number_of_users, number_of_ads, dataset):\n\n    ads_selected = []\n    numbers_of_selections = [0] * number_of_ads\n    sums_of_reward = [0] * number_of_ads\n    total_reward = 0\n\n    for user in range(0, number_of_users):\n        ad = 0\n        max_upper_bound = 0\n        for i in range(0, number_of_ads):\n            if (numbers_of_selections[i] > 0):\n                average_reward = sums_of_reward[i] / numbers_of_selections[i]\n                delta_i = math.sqrt(2 * math.log(user+1) / numbers_of_selections[i])\n                upper_bound = average_reward + delta_i\n            else:\n                upper_bound = 1e400\n            if upper_bound > max_upper_bound:\n                max_upper_bound = upper_bound\n                ad = i\n        ads_selected.append(ad)\n        numbers_of_selections[ad] += 1\n        reward = dataset.values[user, ad]\n        sums_of_reward[ad] += reward\n        total_reward += reward\n    return ads_selected, total_reward",
      "execution_count": null,
      "outputs": []
    },
    {
      "metadata": {
        "trusted": true,
        "_uuid": "6c4bbb7d960ab595dff257e74628b4bdf66f0177"
      },
      "cell_type": "code",
      "source": "ads_selected, total_rewards = UCB_multi_armed_bandit(10000, 10, dataset)",
      "execution_count": null,
      "outputs": []
    },
    {
      "metadata": {
        "trusted": true,
        "_uuid": "bd553fb57337904aa931b5ab629cb9db90d3fb6d"
      },
      "cell_type": "code",
      "source": "pd.Series(ads_selected).head(1500).value_counts(normalize=True).plot(kind='bar')",
      "execution_count": null,
      "outputs": []
    },
    {
      "metadata": {
        "trusted": true,
        "_uuid": "38944cf0a7743d039b981b5de3484a52e941613a"
      },
      "cell_type": "code",
      "source": "total_rewards",
      "execution_count": null,
      "outputs": []
    },
    {
      "metadata": {
        "_uuid": "fcc316e48b600c2f7fa8c64dd75eaf1397b8cb72"
      },
      "cell_type": "markdown",
      "source": "Check that out! The total reward is much greater now and from the graph we have an ad that is clearly outperforming the rest, ad 5! (remember zero indexing is a thing in python). \n\nSince we had the the entire dataset from the start, we can check to see which ad did in fact have the highest click rate."
    },
    {
      "metadata": {
        "trusted": true,
        "_uuid": "2231b4138f5f77c1a2345a7fa5436163c58abd54"
      },
      "cell_type": "code",
      "source": "dataset.sum()/len(dataset)",
      "execution_count": null,
      "outputs": []
    },
    {
      "metadata": {
        "_uuid": "94718358e51908bb4cacf5fbc4c667fb324e15eb"
      },
      "cell_type": "markdown",
      "source": "There we go! Our bandit was correct. Ad 5 was the top performer.\n\nThat's the main content complete for this months meetup. If you have time why don't you check out the extra exercises."
    },
    {
      "metadata": {
        "trusted": true,
        "_uuid": "f9f1924160a6c9489287ea1f92165d68b10264fb"
      },
      "cell_type": "markdown",
      "source": "# Extra content"
    },
    {
      "metadata": {
        "trusted": true,
        "_uuid": "05aec415731b91c7236449a1fc3a4fca3efaa4c2"
      },
      "cell_type": "markdown",
      "source": "# Greedy epsilon algorithm\nHere's another algorithm for learning `greedy epsilon`. Have a go with this code and try tweaking the hyperpara****meter"
    },
    {
      "metadata": {
        "trusted": true,
        "_uuid": "45e29b9a9859a61cc3cc634499bed962092e2c93"
      },
      "cell_type": "code",
      "source": "total_episodes = 20000        # Total episodes\ntotal_test_episodes = 100     # Total test episodes\nmax_steps = 99                # Max steps per episode\n\nlearning_rate = 0.7           # Learning rate\ngamma = 0.618                 # Discounting rate\n\n# Exploration parameters\nepsilon = 1.0                 # Exploration rate\nmax_epsilon = 1.0             # Exploration probability at start\nmin_epsilon = 0.01            # Minimum exploration probability \ndecay_rate = 0.01             # Exponential decay rate for exploration prob\n\n\nqtable = np.zeros((state_size, action_size))",
      "execution_count": null,
      "outputs": []
    },
    {
      "metadata": {
        "trusted": true,
        "_uuid": "36ff75b13a91d803d70cadf3bae81d4b1567a01a"
      },
      "cell_type": "code",
      "source": "\n# List of rewards\nrewards = []\n\n# 2 For life or until learning is stopped\nfor episode in range(total_episodes):\n    # Reset the environment\n    state = env.reset()\n    step = 0\n    done = False\n    total_rewards = 0\n    \n    for step in range(max_steps):\n        # 3. Choose an action a in the current world state (s)\n        ## First we randomize a number\n        exp_exp_tradeoff = random.uniform(0, 1)\n        \n        ## If this number > greater than epsilon --> exploitation (taking the biggest Q value for this state)\n        if exp_exp_tradeoff > epsilon:\n            action = np.argmax(qtable[state,:])\n\n        # Else doing a random choice --> exploration\n        else:\n            action = env.action_space.sample()\n\n        # Take the action (a) and observe the outcome state(s') and reward (r)\n        new_state, reward, done, info = env.step(action)\n\n        # Update Q(s,a):= Q(s,a) + lr [R(s,a) + gamma * max Q(s',a') - Q(s,a)]\n        # qtable[new_state,:] : all the actions we can take from new state\n        qtable[state, action] = qtable[state, action] + learning_rate * (reward + gamma * np.max(qtable[new_state, :]) - qtable[state, action])\n        \n        total_rewards += reward\n        \n        # Our new state is state\n        state = new_state\n        \n        # If done (if we're dead) : finish episode\n        if done == True: \n            break\n        \n    # Reduce epsilon (because we need less and less exploration)\n    epsilon = min_epsilon + (max_epsilon - min_epsilon)*np.exp(-decay_rate*episode) \n    rewards.append(total_rewards)\n\nprint (\"Score over time: \" +  str(sum(rewards)/total_episodes))\nprint(qtable)",
      "execution_count": null,
      "outputs": []
    },
    {
      "metadata": {
        "trusted": true,
        "_uuid": "b586b618d3ca5ed7eeae6690ee370201663d6881"
      },
      "cell_type": "code",
      "source": "env.reset()\n\nfor episode in range(5):\n    state = env.reset()\n    step = 0\n    done = False\n    print(\"****************************************************\")\n    print(\"EPISODE \", episode)\n\n    for step in range(max_steps):\n        \n        # Take the action (index) that have the maximum expected future reward given that state\n        action = np.argmax(qtable[state,:])\n        \n        new_state, reward, done, info = env.step(action)\n        \n        if done:\n            # Here, we decide to only print the last state (to see if our agent is on the goal or fall into an hole)\n            env.render()\n            \n            # We print the number of step it took.\n            print(\"Number of steps\", step)\n            break\n        state = new_state\nenv.close()",
      "execution_count": null,
      "outputs": []
    },
    {
      "metadata": {
        "_uuid": "9b43f863a7db7794b1ebe731dfdcf780b81084ec"
      },
      "cell_type": "markdown",
      "source": "# Start exploring the frozen lake environment\nOpenAI give us pleanty more environments to choose from. Check out the Frozen lake environment here\n"
    },
    {
      "metadata": {
        "trusted": true,
        "_uuid": "78cd3d15a4a478af8e54242aa9a86a3e937127e8"
      },
      "cell_type": "code",
      "source": "env = gym.make('FrozenLake-v0')",
      "execution_count": null,
      "outputs": []
    },
    {
      "metadata": {
        "_uuid": "85f47b6687a97f8dabfd63ea6cbb75c39a73d3a8"
      },
      "cell_type": "markdown",
      "source": "# Or check out any of these"
    },
    {
      "metadata": {
        "trusted": true,
        "_uuid": "ff43c97e3996bf532d73bea0142aa003de213fb7"
      },
      "cell_type": "code",
      "source": "gym.envs.registry.all()",
      "execution_count": null,
      "outputs": []
    },
    {
      "metadata": {
        "trusted": true,
        "_uuid": "54f99b7facd5568f0f24b10cd1fa91eb73cc7ec1"
      },
      "cell_type": "code",
      "source": "",
      "execution_count": null,
      "outputs": []
    }
  ],
  "metadata": {
    "kernelspec": {
      "display_name": "Python 3",
      "language": "python",
      "name": "python3"
    },
    "language_info": {
      "name": "python",
      "version": "3.6.6",
      "mimetype": "text/x-python",
      "codemirror_mode": {
        "name": "ipython",
        "version": 3
      },
      "pygments_lexer": "ipython3",
      "nbconvert_exporter": "python",
      "file_extension": ".py"
    }
  },
  "nbformat": 4,
  "nbformat_minor": 1
}